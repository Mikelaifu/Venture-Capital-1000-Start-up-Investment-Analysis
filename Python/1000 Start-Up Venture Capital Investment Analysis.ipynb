{
 "cells": [
  {
   "cell_type": "code",
   "execution_count": 2,
   "metadata": {},
   "outputs": [],
   "source": [
    "import pandas as pd\n",
    "import numpy as np\n",
    "import random\n",
    "import matplotlib.pyplot as plt\n",
    "from sklearn.linear_model import LinearRegression\n",
    "from sklearn.model_selection import train_test_split\n",
    "from sklearn.compose import ColumnTransformer\n",
    "from sklearn.preprocessing import OneHotEncoder"
   ]
  },
  {
   "cell_type": "markdown",
   "metadata": {},
   "source": [
    "## Step 1 Data Preprocesessing & Feature Engineering\n",
    "\n",
    "_Randomly distribute the ratio for R&D Spend, Administration spend, Marketing spend, all can drive(total expenses * ratio) from the total expenses. \n",
    "\n",
    "_Company Founded Longevity : How long the company has been founded from current years (year founded - current year)\n",
    "Total Growth \n",
    "\n",
    "_Total Growth (Total rev 2019- Total rev in 2017 / Total rev in 2017)\n",
    "\n",
    "_Growth rate in last 3 years (Total growth/ past 2 years)\n"
   ]
  },
  {
   "cell_type": "code",
   "execution_count": 3,
   "metadata": {},
   "outputs": [],
   "source": [
    "dt_financials = pd.DataFrame(pd.read_excel(open('../dataset/P11-1000-Startups.xlsx', 'rb'), \n",
    "                                           sheet_name = \"Financials\", ingnore_index= True), index = None)\n",
    "dt_financials.set_index(['ID'])\n",
    "dt_overview = pd.DataFrame(pd.read_excel(open('../dataset/P11-1000-Startups.xlsx', 'rb'), \n",
    "                                              sheet_name = \"Overview\", ingnore_index= True), index = None)\n",
    "dt_overview.set_index(['ID'])\n",
    "# merge the two tab toagther by common keys ID and Name\n",
    "new_dt = pd.merge(dt_financials, dt_overview,   on=['ID', \"Name\"])"
   ]
  },
  {
   "cell_type": "code",
   "execution_count": 5,
   "metadata": {},
   "outputs": [],
   "source": [
    "# create Total growth\n",
    "total_growth = list(round((new_dt['2019 Revenue']-new_dt['2017 Revenue'])/new_dt['2017 Revenue'], 2))\n",
    "new_dt[\"Total Growth %\"] = total_growth\n",
    "# generate avg Rev, expenses, profit\n",
    "new_dt[\"Avg Revenue (2017-2019)\"] = np.round((new_dt[\"2019 Revenue\"] +new_dt[\"2018 Revenue\"] +\n",
    "                                              new_dt[\"2017 Revenue\"]) /3, 2)\n",
    "new_dt[\"Avg Expenses (2017-2019)\"] = np.round((new_dt[\"2019 Expenses\"] +new_dt[\"2018 Expenses\"] +\n",
    "                                              new_dt[\"2017 Expenses\"]) /3, 2)\n",
    "new_dt[\"Avg Profit (2017-2019)\"] = np.round((new_dt[\"2019 Profit\"] + new_dt[\"2018 Profit\"] +\n",
    "                                              new_dt[\"2017 Profit\"]) /3, 2)"
   ]
  },
  {
   "cell_type": "code",
   "execution_count": 6,
   "metadata": {},
   "outputs": [],
   "source": [
    "# create Company Founded Longevity\n",
    "new_dt['Year Founded'].astype(int)\n",
    "founded_longevity = []\n",
    "for yr in list(new_dt['Year Founded']):\n",
    "    longev = 2020-yr\n",
    "    if longev == 0:\n",
    "        longev = 1\n",
    "    founded_longevity.append(longev)\n",
    "new_dt['Company Founded Longevity'] = founded_longevity\n"
   ]
  },
  {
   "cell_type": "code",
   "execution_count": 7,
   "metadata": {},
   "outputs": [],
   "source": [
    "# generate column: Growth rate in last 3 years\n",
    "last3yr_growth_rate = new_dt['Total Growth %']/2\n",
    "new_dt['Growth rate in Last 3 Years in %'] = last3yr_growth_rate"
   ]
  },
  {
   "cell_type": "code",
   "execution_count": 8,
   "metadata": {},
   "outputs": [
    {
     "data": {
      "text/html": [
       "<div>\n",
       "<style scoped>\n",
       "    .dataframe tbody tr th:only-of-type {\n",
       "        vertical-align: middle;\n",
       "    }\n",
       "\n",
       "    .dataframe tbody tr th {\n",
       "        vertical-align: top;\n",
       "    }\n",
       "\n",
       "    .dataframe thead th {\n",
       "        text-align: right;\n",
       "    }\n",
       "</style>\n",
       "<table border=\"1\" class=\"dataframe\">\n",
       "  <thead>\n",
       "    <tr style=\"text-align: right;\">\n",
       "      <th></th>\n",
       "      <th>ID</th>\n",
       "      <th>Name</th>\n",
       "      <th>2019 Revenue</th>\n",
       "      <th>2019 Expenses</th>\n",
       "      <th>2019 Profit</th>\n",
       "      <th>2019 Growth %</th>\n",
       "      <th>2018 Revenue</th>\n",
       "      <th>2018 Expenses</th>\n",
       "      <th>2018 Profit</th>\n",
       "      <th>2018 Growth %</th>\n",
       "      <th>...</th>\n",
       "      <th>Avg Expenses (2017-2019)</th>\n",
       "      <th>Avg Profit (2017-2019)</th>\n",
       "      <th>Company Founded Longevity</th>\n",
       "      <th>Growth rate in Last 3 Years in %</th>\n",
       "      <th>Admin Spend (2019) Ratio</th>\n",
       "      <th>Marketing &amp; Sales Spend (2019) Ratio</th>\n",
       "      <th>R&amp;D Spend (2019) Ratio</th>\n",
       "      <th>Admin Spend (2019)</th>\n",
       "      <th>Marketing &amp; Sales Spend (2019)</th>\n",
       "      <th>R&amp;D Spend (2019)</th>\n",
       "    </tr>\n",
       "  </thead>\n",
       "  <tbody>\n",
       "    <tr>\n",
       "      <th>0</th>\n",
       "      <td>1</td>\n",
       "      <td>Over-Hex</td>\n",
       "      <td>10684526.90</td>\n",
       "      <td>1130700.06</td>\n",
       "      <td>9553826.84</td>\n",
       "      <td>3.34</td>\n",
       "      <td>2463739</td>\n",
       "      <td>194747.86</td>\n",
       "      <td>2268991.14</td>\n",
       "      <td>4.10</td>\n",
       "      <td>...</td>\n",
       "      <td>456280.79</td>\n",
       "      <td>4087503.21</td>\n",
       "      <td>10</td>\n",
       "      <td>10.560</td>\n",
       "      <td>0.2796</td>\n",
       "      <td>0.2783</td>\n",
       "      <td>0.4421</td>\n",
       "      <td>316143.737</td>\n",
       "      <td>314673.827</td>\n",
       "      <td>499882.497</td>\n",
       "    </tr>\n",
       "    <tr>\n",
       "      <th>1</th>\n",
       "      <td>2</td>\n",
       "      <td>Unimattax</td>\n",
       "      <td>9016542.89</td>\n",
       "      <td>804035.40</td>\n",
       "      <td>8212507.49</td>\n",
       "      <td>0.65</td>\n",
       "      <td>5448571</td>\n",
       "      <td>239226.90</td>\n",
       "      <td>5209344.10</td>\n",
       "      <td>0.41</td>\n",
       "      <td>...</td>\n",
       "      <td>378325.58</td>\n",
       "      <td>5731457.30</td>\n",
       "      <td>7</td>\n",
       "      <td>0.665</td>\n",
       "      <td>0.1948</td>\n",
       "      <td>0.2598</td>\n",
       "      <td>0.5454</td>\n",
       "      <td>156626.096</td>\n",
       "      <td>208888.397</td>\n",
       "      <td>438520.907</td>\n",
       "    </tr>\n",
       "    <tr>\n",
       "      <th>2</th>\n",
       "      <td>3</td>\n",
       "      <td>Lexila</td>\n",
       "      <td>12456641.64</td>\n",
       "      <td>2149297.00</td>\n",
       "      <td>10307344.65</td>\n",
       "      <td>5.20</td>\n",
       "      <td>2007778</td>\n",
       "      <td>335126.93</td>\n",
       "      <td>1672651.07</td>\n",
       "      <td>4.23</td>\n",
       "      <td>...</td>\n",
       "      <td>865560.45</td>\n",
       "      <td>4083878.23</td>\n",
       "      <td>3</td>\n",
       "      <td>15.725</td>\n",
       "      <td>0.1594</td>\n",
       "      <td>0.3238</td>\n",
       "      <td>0.5168</td>\n",
       "      <td>342597.942</td>\n",
       "      <td>695942.369</td>\n",
       "      <td>1110756.690</td>\n",
       "    </tr>\n",
       "    <tr>\n",
       "      <th>3</th>\n",
       "      <td>4</td>\n",
       "      <td>Greenfax</td>\n",
       "      <td>7746272.07</td>\n",
       "      <td>1044375.49</td>\n",
       "      <td>6701896.58</td>\n",
       "      <td>3.17</td>\n",
       "      <td>1857830</td>\n",
       "      <td>247048.76</td>\n",
       "      <td>1610781.24</td>\n",
       "      <td>0.56</td>\n",
       "      <td>...</td>\n",
       "      <td>638955.64</td>\n",
       "      <td>2959383.94</td>\n",
       "      <td>4</td>\n",
       "      <td>2.750</td>\n",
       "      <td>0.2928</td>\n",
       "      <td>0.3227</td>\n",
       "      <td>0.3845</td>\n",
       "      <td>305793.143</td>\n",
       "      <td>337019.971</td>\n",
       "      <td>401562.376</td>\n",
       "    </tr>\n",
       "    <tr>\n",
       "      <th>4</th>\n",
       "      <td>5</td>\n",
       "      <td>Saoace</td>\n",
       "      <td>10725585.46</td>\n",
       "      <td>2694644.42</td>\n",
       "      <td>8030941.04</td>\n",
       "      <td>3.12</td>\n",
       "      <td>2604017</td>\n",
       "      <td>615040.85</td>\n",
       "      <td>1988976.15</td>\n",
       "      <td>2.39</td>\n",
       "      <td>...</td>\n",
       "      <td>1177549.38</td>\n",
       "      <td>3521700.31</td>\n",
       "      <td>7</td>\n",
       "      <td>6.480</td>\n",
       "      <td>0.2896</td>\n",
       "      <td>0.3300</td>\n",
       "      <td>0.3804</td>\n",
       "      <td>780369.024</td>\n",
       "      <td>889232.659</td>\n",
       "      <td>1025042.737</td>\n",
       "    </tr>\n",
       "  </tbody>\n",
       "</table>\n",
       "<p>5 rows × 32 columns</p>\n",
       "</div>"
      ],
      "text/plain": [
       "   ID       Name  2019 Revenue  2019 Expenses  2019 Profit  2019 Growth %  \\\n",
       "0   1   Over-Hex   10684526.90     1130700.06   9553826.84           3.34   \n",
       "1   2  Unimattax    9016542.89      804035.40   8212507.49           0.65   \n",
       "2   3     Lexila   12456641.64     2149297.00  10307344.65           5.20   \n",
       "3   4   Greenfax    7746272.07     1044375.49   6701896.58           3.17   \n",
       "4   5     Saoace   10725585.46     2694644.42   8030941.04           3.12   \n",
       "\n",
       "   2018 Revenue  2018 Expenses  2018 Profit  2018 Growth %        ...         \\\n",
       "0       2463739      194747.86   2268991.14           4.10        ...          \n",
       "1       5448571      239226.90   5209344.10           0.41        ...          \n",
       "2       2007778      335126.93   1672651.07           4.23        ...          \n",
       "3       1857830      247048.76   1610781.24           0.56        ...          \n",
       "4       2604017      615040.85   1988976.15           2.39        ...          \n",
       "\n",
       "   Avg Expenses (2017-2019)  Avg Profit (2017-2019)  \\\n",
       "0                 456280.79              4087503.21   \n",
       "1                 378325.58              5731457.30   \n",
       "2                 865560.45              4083878.23   \n",
       "3                 638955.64              2959383.94   \n",
       "4                1177549.38              3521700.31   \n",
       "\n",
       "   Company Founded Longevity Growth rate in Last 3 Years in %  \\\n",
       "0                         10                           10.560   \n",
       "1                          7                            0.665   \n",
       "2                          3                           15.725   \n",
       "3                          4                            2.750   \n",
       "4                          7                            6.480   \n",
       "\n",
       "  Admin Spend (2019) Ratio  Marketing & Sales Spend (2019) Ratio  \\\n",
       "0                   0.2796                                0.2783   \n",
       "1                   0.1948                                0.2598   \n",
       "2                   0.1594                                0.3238   \n",
       "3                   0.2928                                0.3227   \n",
       "4                   0.2896                                0.3300   \n",
       "\n",
       "  R&D Spend (2019) Ratio Admin Spend (2019) Marketing & Sales Spend (2019)  \\\n",
       "0                 0.4421         316143.737                     314673.827   \n",
       "1                 0.5454         156626.096                     208888.397   \n",
       "2                 0.5168         342597.942                     695942.369   \n",
       "3                 0.3845         305793.143                     337019.971   \n",
       "4                 0.3804         780369.024                     889232.659   \n",
       "\n",
       "   R&D Spend (2019)  \n",
       "0        499882.497  \n",
       "1        438520.907  \n",
       "2       1110756.690  \n",
       "3        401562.376  \n",
       "4       1025042.737  \n",
       "\n",
       "[5 rows x 32 columns]"
      ]
     },
     "execution_count": 8,
     "metadata": {},
     "output_type": "execute_result"
    }
   ],
   "source": [
    "# Randomly distribute the ratio for R&D Spend, Administration spend, Marketing spend, \n",
    "# all can drive(total expenses * ratio) from the total expenses.\n",
    "num_ratio = 1000\n",
    "ratio_marketing =[round(float(str(random.randrange(20, 35)) + '.' + str(random.randrange(0, 100)))/100, 4) for i in range(num_ratio) ]\n",
    "ratio_admin =[round(float(str(random.randrange(14, 30)) + '.' + str(random.randrange(0, 100)))/100, 4) for i in range(num_ratio) ]\n",
    "ratio_Rd  =[1- ratio_marketing[i] - ratio_admin[i] for i in range(num_ratio)]\n",
    "\n",
    "\n",
    "new_dt[\"Admin Spend (2019) Ratio\"] = ratio_admin\n",
    "new_dt[\"Marketing & Sales Spend (2019) Ratio\"] = ratio_marketing\n",
    "new_dt[\"R&D Spend (2019) Ratio\"] = ratio_Rd \n",
    "\n",
    "new_dt[\"Admin Spend (2019)\"] = np.round(new_dt[\"2019 Expenses\"] * new_dt[\"Admin Spend (2019) Ratio\"], 3)\n",
    "new_dt[\"Marketing & Sales Spend (2019)\"] = np.round(new_dt[\"2019 Expenses\"] * new_dt[\"Marketing & Sales Spend (2019) Ratio\"], 3)\n",
    "new_dt[\"R&D Spend (2019)\"] = np.round(new_dt[\"2019 Expenses\"] * new_dt[\"R&D Spend (2019) Ratio\"] , 3)\n",
    "new_dt.head()"
   ]
  },
  {
   "cell_type": "code",
   "execution_count": 9,
   "metadata": {},
   "outputs": [],
   "source": [
    "new_dt.to_csv(\"../dataset/P11-1000-Startups_cleaned.csv\", index = None)"
   ]
  },
  {
   "cell_type": "markdown",
   "metadata": {},
   "source": [
    "### group similer industries into one and export into another csv for later modeling analysis\n",
    "\n",
    "for exmaple: Information technology, Computer hardware, IT Service, Software"
   ]
  },
  {
   "cell_type": "code",
   "execution_count": null,
   "metadata": {},
   "outputs": [],
   "source": []
  },
  {
   "cell_type": "markdown",
   "metadata": {},
   "source": [
    "## Generate Exploratory Analysis DataSet by Industry"
   ]
  },
  {
   "cell_type": "code",
   "execution_count": 63,
   "metadata": {},
   "outputs": [
    {
     "data": {
      "text/html": [
       "<div>\n",
       "<style scoped>\n",
       "    .dataframe tbody tr th:only-of-type {\n",
       "        vertical-align: middle;\n",
       "    }\n",
       "\n",
       "    .dataframe tbody tr th {\n",
       "        vertical-align: top;\n",
       "    }\n",
       "\n",
       "    .dataframe thead tr th {\n",
       "        text-align: left;\n",
       "    }\n",
       "\n",
       "    .dataframe thead tr:last-of-type th {\n",
       "        text-align: right;\n",
       "    }\n",
       "</style>\n",
       "<table border=\"1\" class=\"dataframe\">\n",
       "  <thead>\n",
       "    <tr>\n",
       "      <th></th>\n",
       "      <th>Name</th>\n",
       "      <th colspan=\"2\" halign=\"left\">2019 Revenue</th>\n",
       "      <th colspan=\"2\" halign=\"left\">2019 Expenses</th>\n",
       "      <th colspan=\"2\" halign=\"left\">2019 Growth %</th>\n",
       "    </tr>\n",
       "    <tr>\n",
       "      <th></th>\n",
       "      <th>count</th>\n",
       "      <th>mean</th>\n",
       "      <th>median</th>\n",
       "      <th>mean</th>\n",
       "      <th>median</th>\n",
       "      <th>mean</th>\n",
       "      <th>median</th>\n",
       "    </tr>\n",
       "    <tr>\n",
       "      <th>Industry</th>\n",
       "      <th></th>\n",
       "      <th></th>\n",
       "      <th></th>\n",
       "      <th></th>\n",
       "      <th></th>\n",
       "      <th></th>\n",
       "      <th></th>\n",
       "    </tr>\n",
       "  </thead>\n",
       "  <tbody>\n",
       "    <tr>\n",
       "      <th>Advertising &amp; Marketing</th>\n",
       "      <td>65</td>\n",
       "      <td>9.142556e+06</td>\n",
       "      <td>9145449.94</td>\n",
       "      <td>4.444607e+06</td>\n",
       "      <td>4515537.82</td>\n",
       "      <td>4.032769</td>\n",
       "      <td>3.92</td>\n",
       "    </tr>\n",
       "    <tr>\n",
       "      <th>Business Products &amp; Services</th>\n",
       "      <td>67</td>\n",
       "      <td>8.889641e+06</td>\n",
       "      <td>8836311.51</td>\n",
       "      <td>4.244925e+06</td>\n",
       "      <td>3895860.23</td>\n",
       "      <td>4.033582</td>\n",
       "      <td>3.90</td>\n",
       "    </tr>\n",
       "  </tbody>\n",
       "</table>\n",
       "</div>"
      ],
      "text/plain": [
       "                              Name  2019 Revenue             2019 Expenses  \\\n",
       "                             count          mean      median          mean   \n",
       "Industry                                                                     \n",
       "Advertising & Marketing         65  9.142556e+06  9145449.94  4.444607e+06   \n",
       "Business Products & Services    67  8.889641e+06  8836311.51  4.244925e+06   \n",
       "\n",
       "                                         2019 Growth %         \n",
       "                                  median          mean median  \n",
       "Industry                                                       \n",
       "Advertising & Marketing       4515537.82      4.032769   3.92  \n",
       "Business Products & Services  3895860.23      4.033582   3.90  "
      ]
     },
     "execution_count": 63,
     "metadata": {},
     "output_type": "execute_result"
    }
   ],
   "source": [
    "# this will creat a multi level columns\n",
    "df_industry_agg = new_dt.groupby('Industry').agg({\n",
    "    \"Name\": 'count',\n",
    "    \"2019 Revenue\": [np.mean, 'median'],\n",
    "    \"2019 Expenses\": [np.mean, 'median'],\n",
    "    \"2019 Growth %\": [np.mean, 'median']\n",
    "})\n",
    "df_industry_agg.head(2)\n",
    "\n",
    "# list(df_industry_agg.columns.levels[0])\n",
    "# list(df_industry_agg.columns.levels[1])"
   ]
  },
  {
   "cell_type": "code",
   "execution_count": 81,
   "metadata": {},
   "outputs": [],
   "source": [
    "columns_lst = [\"Industry\", \"Company Count\", \"2019 Revenue Mean\", \"2019 Expenses Mean\", \"2019 Growth % Mean\", \n",
    "           \"2019 Revenue Median\", \"2019 Expenses Median\", \"2019 Growth % Median\"]\n",
    "df_industry = pd.DataFrame(columns = columns_lst)\n",
    "df_industry[\"2019 Revenue Mean\"]= list(np.round(df_industry_agg[\"2019 Revenue\"][\"mean\"], 2))\n",
    "df_industry[\"Industry\"]= list(df_industry_agg.index)\n",
    "df_industry[\"Company Count\"] = list(df_industry_agg[\"Name\"][\"count\"])\n",
    "df_industry[\"2019 Revenue Mean\"] = list(np.round(df_industry_agg[\"2019 Revenue\"][\"mean\"], 2))\n",
    "df_industry[\"2019 Expenses Mean\"]= list(np.round(df_industry_agg[\"2019 Expenses\"][\"mean\"], 2))\n",
    "df_industry[\"2019 Growth % Mean\"]= list(np.round(df_industry_agg[\"2019 Growth %\"][\"mean\"], 2))\n",
    "df_industry[\"2019 Revenue Median\"]=list(np.round(df_industry_agg[\"2019 Revenue\"][\"median\"], 2))\n",
    "df_industry[\"2019 Expenses Median\"]= list(np.round(df_industry_agg[\"2019 Expenses\"][\"median\"], 2))\n",
    "df_industry[\"2019 Growth % Median\"]= list(np.round(df_industry_agg[\"2019 Growth %\"][\"median\"], 2))\n",
    "df_industry.to_csv('../dataset/P11-1000-Startups_industry_analysis.csv')"
   ]
  },
  {
   "cell_type": "markdown",
   "metadata": {},
   "source": [
    "## Step 2 Tableau Analysis Reporting\n",
    "\n",
    "##### Growth Analysis Dashbaord\n",
    "- growth data to display top growth firm\n",
    "- scatter plot: deep green or greens are counted as top growing firm with the best performing revenue and expense\n",
    "Dashboard Link: https://public.tableau.com/profile/xiaoyang.wu#!/vizhome/StartupTopGrowthAnalysis/TopGrowthAnalysis?publish=yes\n",
    "\n",
    "![dashboard1](../Img/Dashboard1.png)\n",
    "\n",
    "#### Selected Potential Companies for Investment Dashboard\n",
    "- Selected Companies Analysis\n",
    "- Selected companies Industry analysis (bar chart)\n",
    "Dashboard Link: https://public.tableau.com/profile/xiaoyang.wu#!/vizhome/SelectedStartupforVentureCapitalInvestingAnalysis/SelectedPotentialCompaniesforInvestment?publish=yes\n",
    "\n",
    "![dashboard2](../Img/Dashboard2.png)\n",
    "\n",
    "##### Top Profitable Companies to Invest Dashboard\n",
    "- Top N Most Profitable Companies (Portfolio Analysis)\n",
    "- Top N Mots Profitable Companies (tree map)\n",
    "Dashboard Link: https://public.tableau.com/profile/xiaoyang.wu#!/vizhome/TopNMostProfitableStartupforInvestingAnalysis/TopProfitableCompaniestoInvest?publish=yes\n",
    "\n",
    "![dashboard3](../Img/Dashboard3.png)\n"
   ]
  },
  {
   "cell_type": "markdown",
   "metadata": {},
   "source": [
    "## Step 3 Build a Pediction Model Based Selected 100 Companies "
   ]
  },
  {
   "cell_type": "markdown",
   "metadata": {},
   "source": [
    "#### Model 1: Multiple Linear Regression"
   ]
  },
  {
   "cell_type": "code",
   "execution_count": null,
   "metadata": {},
   "outputs": [],
   "source": [
    "# data import "
   ]
  },
  {
   "cell_type": "code",
   "execution_count": null,
   "metadata": {},
   "outputs": [],
   "source": [
    "# data ppc"
   ]
  },
  {
   "cell_type": "code",
   "execution_count": null,
   "metadata": {},
   "outputs": [],
   "source": [
    "# dummy variables ppc"
   ]
  },
  {
   "cell_type": "code",
   "execution_count": null,
   "metadata": {},
   "outputs": [],
   "source": [
    "# split train and test data"
   ]
  },
  {
   "cell_type": "code",
   "execution_count": null,
   "metadata": {},
   "outputs": [],
   "source": [
    "# train data"
   ]
  },
  {
   "cell_type": "code",
   "execution_count": null,
   "metadata": {},
   "outputs": [],
   "source": [
    "# test data"
   ]
  },
  {
   "cell_type": "code",
   "execution_count": null,
   "metadata": {},
   "outputs": [],
   "source": [
    "# compare result"
   ]
  },
  {
   "cell_type": "code",
   "execution_count": null,
   "metadata": {},
   "outputs": [],
   "source": []
  },
  {
   "cell_type": "code",
   "execution_count": null,
   "metadata": {},
   "outputs": [],
   "source": []
  },
  {
   "cell_type": "markdown",
   "metadata": {},
   "source": [
    "#### Model 2: Logistic Regression "
   ]
  },
  {
   "cell_type": "code",
   "execution_count": null,
   "metadata": {},
   "outputs": [],
   "source": []
  },
  {
   "cell_type": "code",
   "execution_count": null,
   "metadata": {},
   "outputs": [],
   "source": []
  },
  {
   "cell_type": "code",
   "execution_count": null,
   "metadata": {},
   "outputs": [],
   "source": []
  },
  {
   "cell_type": "code",
   "execution_count": null,
   "metadata": {},
   "outputs": [],
   "source": []
  },
  {
   "cell_type": "code",
   "execution_count": null,
   "metadata": {},
   "outputs": [],
   "source": []
  },
  {
   "cell_type": "code",
   "execution_count": null,
   "metadata": {},
   "outputs": [],
   "source": []
  },
  {
   "cell_type": "code",
   "execution_count": null,
   "metadata": {},
   "outputs": [],
   "source": []
  },
  {
   "cell_type": "code",
   "execution_count": null,
   "metadata": {},
   "outputs": [],
   "source": []
  },
  {
   "cell_type": "code",
   "execution_count": null,
   "metadata": {},
   "outputs": [],
   "source": []
  },
  {
   "cell_type": "code",
   "execution_count": null,
   "metadata": {},
   "outputs": [],
   "source": []
  }
 ],
 "metadata": {
  "kernelspec": {
   "display_name": "Python 3",
   "language": "python",
   "name": "python3"
  },
  "language_info": {
   "codemirror_mode": {
    "name": "ipython",
    "version": 3
   },
   "file_extension": ".py",
   "mimetype": "text/x-python",
   "name": "python",
   "nbconvert_exporter": "python",
   "pygments_lexer": "ipython3",
   "version": "3.6.5"
  }
 },
 "nbformat": 4,
 "nbformat_minor": 2
}
