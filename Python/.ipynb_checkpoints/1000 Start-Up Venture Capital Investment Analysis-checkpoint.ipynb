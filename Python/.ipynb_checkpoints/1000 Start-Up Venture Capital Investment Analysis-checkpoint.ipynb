{
 "cells": [
  {
   "cell_type": "markdown",
   "metadata": {},
   "source": [
    "## Step 2 Tableau Analysis Reporting\n",
    "\n",
    "##### Growth Analysis Dashbaord\n",
    "- growth data to display top growth firm\n",
    "- scatter plot: deep green or greens are counted as top growing firm with the best performing revenue and expense\n",
    "Dashboard Link: https://public.tableau.com/profile/xiaoyang.wu#!/vizhome/StartupTopGrowthAnalysis/TopGrowthAnalysis?publish=yes\n",
    "\n",
    "![dashboard1](../Image/Dashboard1.png)\n",
    "\n",
    "#### Selected Potential Companies for Investment Dashboard\n",
    "- Selected Companies Analysis\n",
    "- Selected companies Industry analysis (bar chart)\n",
    "Dashboard Link: https://public.tableau.com/profile/xiaoyang.wu#!/vizhome/SelectedStartupforVentureCapitalInvestingAnalysis/SelectedPotentialCompaniesforInvestment?publish=yes\n",
    "\n",
    "![dashboard2](../Image/Dashboard2.png)\n",
    "\n",
    "##### Top Profitable Companies to Invest Dashboard\n",
    "- Top N Most Profitable Companies (Portfolio Analysis)\n",
    "- Top N Mots Profitable Companies (tree map)\n",
    "Dashboard Link: https://public.tableau.com/profile/xiaoyang.wu#!/vizhome/TopNMostProfitableStartupforInvestingAnalysis/TopProfitableCompaniestoInvest?publish=yes\n",
    "\n",
    "![dashboard3](../Image/Dashboard3.png)\n"
   ]
  },
  {
   "cell_type": "markdown",
   "metadata": {},
   "source": [
    "## Step 3 Build Pediction Models Based Selected 100 Companies "
   ]
  },
  {
   "cell_type": "markdown",
   "metadata": {},
   "source": [
    "#### Profit Prediction Model\n",
    "\n",
    "Model 1: Multiple Linear Regression"
   ]
  },
  {
   "cell_type": "code",
   "execution_count": 1,
   "metadata": {},
   "outputs": [],
   "source": [
    "import pandas as pd\n",
    "import numpy as np\n",
    "import random\n",
    "import matplotlib.pyplot as plt"
   ]
  },
  {
   "cell_type": "code",
   "execution_count": 2,
   "metadata": {},
   "outputs": [],
   "source": [
    "# data import and merge with main data set into a new top 100 startup\n",
    "df_top100 = pd.read_csv(\"../Dataset/Top_100_Most_Profitable_Startup.csv\")\n",
    "df_main = pd.read_csv(\"../Dataset/P11-1000-Startups_cleaned.csv\")\n",
    "df_top_startup = pd.merge(df_top100,df_main,on='ID',how='left')\n",
    "df_top_startup_ready = df_top_startup[['2019 Revenue', \n",
    "                                       '2019 Growth %', 'Employees', 'Company Founded Longevity', \n",
    "                                       'Admin Spend (2019)', \n",
    "                                      'Marketing & Sales Spend (2019)',  \n",
    "                                       'R&D Spend (2019)',   '2019 Profit'] ]\n",
    "# select only the needed features"
   ]
  },
  {
   "cell_type": "code",
   "execution_count": 3,
   "metadata": {},
   "outputs": [
    {
     "data": {
      "text/html": [
       "<div>\n",
       "<style scoped>\n",
       "    .dataframe tbody tr th:only-of-type {\n",
       "        vertical-align: middle;\n",
       "    }\n",
       "\n",
       "    .dataframe tbody tr th {\n",
       "        vertical-align: top;\n",
       "    }\n",
       "\n",
       "    .dataframe thead th {\n",
       "        text-align: right;\n",
       "    }\n",
       "</style>\n",
       "<table border=\"1\" class=\"dataframe\">\n",
       "  <thead>\n",
       "    <tr style=\"text-align: right;\">\n",
       "      <th></th>\n",
       "      <th>2019 Revenue</th>\n",
       "      <th>2019 Growth %</th>\n",
       "      <th>Employees</th>\n",
       "      <th>Company Founded Longevity</th>\n",
       "      <th>Admin Spend (2019)</th>\n",
       "      <th>Marketing &amp; Sales Spend (2019)</th>\n",
       "      <th>R&amp;D Spend (2019)</th>\n",
       "      <th>2019 Profit</th>\n",
       "    </tr>\n",
       "  </thead>\n",
       "  <tbody>\n",
       "    <tr>\n",
       "      <th>0</th>\n",
       "      <td>11000642.42</td>\n",
       "      <td>3.25</td>\n",
       "      <td>45</td>\n",
       "      <td>5</td>\n",
       "      <td>369611.581</td>\n",
       "      <td>428361.362</td>\n",
       "      <td>549499.098</td>\n",
       "      <td>9653170.37</td>\n",
       "    </tr>\n",
       "    <tr>\n",
       "      <th>1</th>\n",
       "      <td>12386572.10</td>\n",
       "      <td>4.27</td>\n",
       "      <td>7</td>\n",
       "      <td>7</td>\n",
       "      <td>1112969.530</td>\n",
       "      <td>840625.183</td>\n",
       "      <td>2185377.137</td>\n",
       "      <td>8247600.25</td>\n",
       "    </tr>\n",
       "    <tr>\n",
       "      <th>2</th>\n",
       "      <td>9898504.71</td>\n",
       "      <td>4.26</td>\n",
       "      <td>28</td>\n",
       "      <td>4</td>\n",
       "      <td>254386.025</td>\n",
       "      <td>565080.156</td>\n",
       "      <td>846454.089</td>\n",
       "      <td>8232584.44</td>\n",
       "    </tr>\n",
       "    <tr>\n",
       "      <th>3</th>\n",
       "      <td>11835820.05</td>\n",
       "      <td>4.46</td>\n",
       "      <td>43</td>\n",
       "      <td>3</td>\n",
       "      <td>607713.850</td>\n",
       "      <td>686288.963</td>\n",
       "      <td>2021402.807</td>\n",
       "      <td>8520414.43</td>\n",
       "    </tr>\n",
       "    <tr>\n",
       "      <th>4</th>\n",
       "      <td>12506421.46</td>\n",
       "      <td>4.18</td>\n",
       "      <td>15</td>\n",
       "      <td>3</td>\n",
       "      <td>1068152.173</td>\n",
       "      <td>835961.383</td>\n",
       "      <td>1822865.414</td>\n",
       "      <td>8779442.49</td>\n",
       "    </tr>\n",
       "  </tbody>\n",
       "</table>\n",
       "</div>"
      ],
      "text/plain": [
       "   2019 Revenue  2019 Growth %  Employees  Company Founded Longevity  \\\n",
       "0   11000642.42           3.25         45                          5   \n",
       "1   12386572.10           4.27          7                          7   \n",
       "2    9898504.71           4.26         28                          4   \n",
       "3   11835820.05           4.46         43                          3   \n",
       "4   12506421.46           4.18         15                          3   \n",
       "\n",
       "   Admin Spend (2019)  Marketing & Sales Spend (2019)  R&D Spend (2019)  \\\n",
       "0          369611.581                      428361.362        549499.098   \n",
       "1         1112969.530                      840625.183       2185377.137   \n",
       "2          254386.025                      565080.156        846454.089   \n",
       "3          607713.850                      686288.963       2021402.807   \n",
       "4         1068152.173                      835961.383       1822865.414   \n",
       "\n",
       "   2019 Profit  \n",
       "0   9653170.37  \n",
       "1   8247600.25  \n",
       "2   8232584.44  \n",
       "3   8520414.43  \n",
       "4   8779442.49  "
      ]
     },
     "execution_count": 3,
     "metadata": {},
     "output_type": "execute_result"
    }
   ],
   "source": [
    "df_top_startup_ready.head()"
   ]
  },
  {
   "cell_type": "code",
   "execution_count": 4,
   "metadata": {},
   "outputs": [],
   "source": [
    "X = df_top_startup_ready.iloc[:,:-1].values\n",
    "y = df_top_startup_ready.iloc[:,-1].values"
   ]
  },
  {
   "cell_type": "code",
   "execution_count": 5,
   "metadata": {},
   "outputs": [
    {
     "data": {
      "text/plain": [
       "array([[1.10006424e+07, 3.25000000e+00, 4.50000000e+01, 5.00000000e+00,\n",
       "        3.69611581e+05, 4.28361362e+05, 5.49499098e+05],\n",
       "       [1.23865721e+07, 4.27000000e+00, 7.00000000e+00, 7.00000000e+00,\n",
       "        1.11296953e+06, 8.40625183e+05, 2.18537714e+06],\n",
       "       [9.89850471e+06, 4.26000000e+00, 2.80000000e+01, 4.00000000e+00,\n",
       "        2.54386025e+05, 5.65080156e+05, 8.46454089e+05]])"
      ]
     },
     "execution_count": 5,
     "metadata": {},
     "output_type": "execute_result"
    }
   ],
   "source": [
    "X[:3]"
   ]
  },
  {
   "cell_type": "code",
   "execution_count": 6,
   "metadata": {},
   "outputs": [],
   "source": [
    "# dummy variables ppc\n",
    "# from sklearn.compose import ColumnTransformer\n",
    "# from sklearn.preprocessing import OneHotEncoder # for categorical variable\n",
    "# ct = ColumnTransformer(transformers=[('encoder', OneHotEncoder(), [7])], remainder='passthrough')\n",
    "# X = np.array(ct.fit_transform(X))"
   ]
  },
  {
   "cell_type": "code",
   "execution_count": 7,
   "metadata": {},
   "outputs": [
    {
     "name": "stdout",
     "output_type": "stream",
     "text": [
      "[[1.10006424e+07 3.25000000e+00 4.50000000e+01 5.00000000e+00\n",
      "  3.69611581e+05 4.28361362e+05 5.49499098e+05]\n",
      " [1.23865721e+07 4.27000000e+00 7.00000000e+00 7.00000000e+00\n",
      "  1.11296953e+06 8.40625183e+05 2.18537714e+06]\n",
      " [9.89850471e+06 4.26000000e+00 2.80000000e+01 4.00000000e+00\n",
      "  2.54386025e+05 5.65080156e+05 8.46454089e+05]]\n"
     ]
    }
   ],
   "source": [
    "print(X[:3])"
   ]
  },
  {
   "cell_type": "code",
   "execution_count": 8,
   "metadata": {},
   "outputs": [],
   "source": [
    "# split train and test data set\n",
    "from sklearn.model_selection import train_test_split\n",
    "X_train, X_test, y_train, y_test = train_test_split(X, y, test_size= 0.2, random_state = 0)"
   ]
  },
  {
   "cell_type": "code",
   "execution_count": 9,
   "metadata": {},
   "outputs": [
    {
     "data": {
      "text/plain": [
       "LinearRegression()"
      ]
     },
     "execution_count": 9,
     "metadata": {},
     "output_type": "execute_result"
    }
   ],
   "source": [
    "# train data\n",
    "from sklearn.linear_model import LinearRegression\n",
    "regressor = LinearRegression()\n",
    "regressor.fit(X_train, y_train)"
   ]
  },
  {
   "cell_type": "code",
   "execution_count": 10,
   "metadata": {},
   "outputs": [],
   "source": [
    "# test data\n",
    "y_pred = regressor.predict(X_test)"
   ]
  },
  {
   "cell_type": "code",
   "execution_count": 11,
   "metadata": {},
   "outputs": [
    {
     "data": {
      "image/png": "[encoded data removed]",
      "text/plain": [
       "<Figure size 432x288 with 1 Axes>"
      ]
     },
     "metadata": {},
     "output_type": "display_data"
    },
    {
     "data": {
      "text/plain": [
       "Text(0.5,1,'Y Predicted')"
      ]
     },
     "execution_count": 11,
     "metadata": {},
     "output_type": "execute_result"
    },
    {
     "data": {
      "image/png": "[encoded data removed]",
      "text/plain": [
       "<Figure size 432x288 with 1 Axes>"
      ]
     },
     "metadata": {},
     "output_type": "display_data"
    }
   ],
   "source": [
    "# compare result\n",
    "plt.plot( y_test, color = 'green')\n",
    "plt.title(\"Real Y\")\n",
    "# plt.legend(['predicted profit', 'real profit'], loc = 'upper right')\n",
    "plt.show()\n",
    "\n",
    "plt.plot( y_pred, color = 'red')\n",
    "plt.title(\"Y Predicted\")"
   ]
  },
  {
   "cell_type": "code",
   "execution_count": 12,
   "metadata": {},
   "outputs": [
    {
     "name": "stdout",
     "output_type": "stream",
     "text": [
      "-0.013577\n",
      "[ 1.00000000e+00  1.41470335e-03 -2.55003695e-06 -2.83187758e-06\n",
      " -9.99999998e-01 -1.00000000e+00 -1.00000000e+00] 6\n",
      "2019 Profit = 1 * X1 (2019 Reveneu) + 0.0014147 * X2 (2019 Growth) - 2.55003695e-06 * X3 (Number of Employee) -2.83187758e-06 * X4(Company Founded Lengevity) -0.9999 * X5 (Admin Spend (2019)) -1 * X6(Marketing & Sales Spend (2019)) -1 * X7 (R&D Spend (2019))    -0.013577  \n"
     ]
    }
   ],
   "source": [
    "print(np.round(regressor.intercept_, 6))\n",
    "print(regressor.coef_, 6)\n",
    "print(\"2019 Profit = 1 * X1 (2019 Reveneu) + 0.0014147 * X2 (2019 Growth) - 2.55003695e-06 * X3 (Number of Employee) -2.83187758e-06 * X4(Company Founded Lengevity) -0.9999 * X5 (Admin Spend (2019)) -1 * X6(Marketing & Sales Spend (2019)) -1 * X7 (R&D Spend (2019))    -0.013577  \")\n",
    "      \n",
    "     "
   ]
  },
  {
   "cell_type": "markdown",
   "metadata": {},
   "source": [
    "##### Model Formula:\n",
    "\n",
    "Y (2019 Profit) = 1 * X1 (2019 Reveneu) + 0.0014147 * X2 (2019 Growth) - 2.55003695e-06 * X3 (Number of Employee) -2.83187758e-06 * X4(Company Founded Lengevity) -0.9999 * X5 (Admin Spend (2019)) -1 * X6(Marketing & Sales Spend (2019)) -1 * X7 (R&D Spend (2019))    -0.013577  "
   ]
  },
  {
   "cell_type": "markdown",
   "metadata": {},
   "source": [
    "#### Investment Decision Model\n",
    "\n",
    "Model 2: Logistic Regression "
   ]
  },
  {
   "cell_type": "code",
   "execution_count": 13,
   "metadata": {},
   "outputs": [],
   "source": [
    "import pandas as pd\n",
    "import numpy as np\n",
    "import random\n",
    "import matplotlib.pyplot as plt\n",
    "from sklearn.model_selection import train_test_split\n",
    "from sklearn.preprocessing import StandardScaler\n",
    "from sklearn.linear_model import LogisticRegression"
   ]
  },
  {
   "cell_type": "code",
   "execution_count": 14,
   "metadata": {},
   "outputs": [
    {
     "name": "stderr",
     "output_type": "stream",
     "text": [
      "/Users/apple/anaconda3/lib/python3.6/site-packages/ipykernel_launcher.py:6: SettingWithCopyWarning: \n",
      "A value is trying to be set on a copy of a slice from a DataFrame\n",
      "\n",
      "See the caveats in the documentation: http://pandas.pydata.org/pandas-docs/stable/indexing.html#indexing-view-versus-copy\n",
      "  \n"
     ]
    }
   ],
   "source": [
    "# data import and merge with main data set into a new top 100 startup\n",
    "dataset = pd.read_csv(\"../Dataset/P11-1000-Startups_Result.csv\")\n",
    "\n",
    "def clean_dataset(df):\n",
    "    assert isinstance(df, pd.DataFrame), \"df needs to be a pd.DataFrame\"\n",
    "    df.dropna(inplace=True)\n",
    "    indices_to_keep = ~df.isin([np.nan, np.inf, -np.inf]).any(1)\n",
    "    return df[indices_to_keep].astype(np.float64)\n",
    "\n",
    "dtst = dataset[['Employees', 'Company Founded Longevity', \n",
    "            'Total Growth %' ,\n",
    "            'Avg Profit (2017-2019)',   'Avg Expenses (2017-2019)', 'Avg Revenue (2017-2019)', 'Result'] ]\n",
    "dtst = clean_dataset(dtst)\n",
    "X = dtst.iloc[:,:-1].values\n",
    "y = dtst.iloc[:,-1].values"
   ]
  },
  {
   "cell_type": "code",
   "execution_count": 15,
   "metadata": {},
   "outputs": [],
   "source": [
    "X_train, X_test, y_train, y_test = train_test_split(X, y, test_size = 0.3, random_state = 0)"
   ]
  },
  {
   "cell_type": "code",
   "execution_count": 16,
   "metadata": {},
   "outputs": [],
   "source": [
    "# Feature scaling the variables\n",
    "feature_scaler = StandardScaler()\n",
    "X_train = feature_scaler.fit_transform(X_train)\n",
    "X_test = feature_scaler.fit_transform(X_test)"
   ]
  },
  {
   "cell_type": "code",
   "execution_count": 17,
   "metadata": {},
   "outputs": [
    {
     "data": {
      "text/plain": [
       "LogisticRegression(random_state=0)"
      ]
     },
     "execution_count": 17,
     "metadata": {},
     "output_type": "execute_result"
    }
   ],
   "source": [
    "# Train the logistic Model\n",
    "classifier_logistic = LogisticRegression(random_state=0)\n",
    "classifier_logistic.fit(X_train, y_train)"
   ]
  },
  {
   "cell_type": "code",
   "execution_count": 18,
   "metadata": {},
   "outputs": [],
   "source": [
    "# Predict the Values\n",
    "y_pred_logistic = classifier_logistic.predict(X_test)"
   ]
  },
  {
   "cell_type": "code",
   "execution_count": 19,
   "metadata": {},
   "outputs": [
    {
     "name": "stdout",
     "output_type": "stream",
     "text": [
      "[[ 0.18715242 -0.11206578  1.19534929  2.396082   -1.74175576  1.55421598]]\n",
      "[-6.24117705]\n",
      "the Logsitic Sigmoid Function: Log_Odd(P) = -6.29423268 + 0.191379(#ofEmployees)X_1 -0.11357923(CompanyFoundedLongevity)X_2 + -0.11357923('Total Growth')X_2 + -0.11357923(Avg Profit (2017-2019))X_2 + -0.11357923(Avg Expenses (2017-2019))X_2 + -0.11357923(Avg Revenue (2017-2019))X_2 \n"
     ]
    }
   ],
   "source": [
    "print(classifier_logistic.coef_)\n",
    "print(classifier_logistic.intercept_)\n",
    "print(\"the Logsitic Sigmoid Function: Log_Odd(P) = -6.29423268 + 0.191379(#ofEmployees)X_1 -0.11357923(CompanyFoundedLongevity)X_2 + -0.11357923('Total Growth')X_2 + -0.11357923(Avg Profit (2017-2019))X_2 + -0.11357923(Avg Expenses (2017-2019))X_2 + -0.11357923(Avg Revenue (2017-2019))X_2 \")"
   ]
  },
  {
   "cell_type": "markdown",
   "metadata": {},
   "source": [
    "#### Evaluation of the Logistic Model\n",
    "\n",
    "- confusion matrix\n",
    "- accuracy \n",
    "- precision\n",
    "- recall\n",
    "- f1-score \n",
    "- k-fold cross-validation"
   ]
  },
  {
   "cell_type": "code",
   "execution_count": 20,
   "metadata": {},
   "outputs": [
    {
     "name": "stdout",
     "output_type": "stream",
     "text": [
      "Confusion Matrix: \n",
      "[[240   5]\n",
      " [ 16  15]]\n",
      "\n",
      "\n",
      "Accuracy Score: \n",
      "0.9239\n",
      "\n",
      "\n",
      "Precision Score: \n",
      "0.75\n",
      "\n",
      "\n",
      "Recall Score: \n",
      "0.4838709677419355\n",
      "\n",
      "\n",
      "F1 Score: 0.5882\n",
      "              precision    recall  f1-score   support\n",
      "\n",
      "         0.0       0.94      0.98      0.96       245\n",
      "         1.0       0.75      0.48      0.59        31\n",
      "\n",
      "    accuracy                           0.92       276\n",
      "   macro avg       0.84      0.73      0.77       276\n",
      "weighted avg       0.92      0.92      0.92       276\n",
      "\n"
     ]
    }
   ],
   "source": [
    "from sklearn.metrics import confusion_matrix\n",
    "matrix = confusion_matrix(y_test, y_pred_logistic)\n",
    "print(\"Confusion Matrix: \")\n",
    "print(matrix)\n",
    "print('\\n')\n",
    "\n",
    "\n",
    "# the accuracy is pretty high, the model is performing pretty well\n",
    "from sklearn.metrics import accuracy_score\n",
    "accuracy_scre = accuracy_score(y_test, y_pred_logistic)\n",
    "# accuracy score: (126+70)/(126+4+5+70)\n",
    "print(\"Accuracy Score: \")\n",
    "print(np.round(accuracy_scre, 4))\n",
    "print('\\n')\n",
    "\n",
    "from sklearn.metrics import precision_score\n",
    "precision_scre = precision_score(y_test, y_pred_logistic)\n",
    "print(\"Precision Score: \")\n",
    "print(precision_scre)\n",
    "print('\\n')\n",
    "\n",
    "\n",
    "from sklearn.metrics import recall_score\n",
    "recall_scre = recall_score(y_test, y_pred_logistic )\n",
    "print(\"Recall Score: \")\n",
    "print(recall_scre)\n",
    "print('\\n')\n",
    "\n",
    "from sklearn.metrics import f1_score\n",
    "print(\"F1 Score: {}\".format(np.round(f1_score(y_test, y_pred_logistic), 4 ) ) )\n",
    "\n",
    "from sklearn.metrics import classification_report\n",
    "print(classification_report(y_test, y_pred_logistic))"
   ]
  },
  {
   "cell_type": "markdown",
   "metadata": {},
   "source": [
    "considering with all the result elvaluation scores,  The model prediction accuracy is pretty good but other acores are not showing promising result.\n",
    "\n",
    "It is time to implement cross_validation on the model!!"
   ]
  },
  {
   "cell_type": "code",
   "execution_count": 21,
   "metadata": {},
   "outputs": [
    {
     "name": "stdout",
     "output_type": "stream",
     "text": [
      "Logistic Regression Cross validation Accuracy: 94.7212 %\n",
      "Standerd Deviation: 2.20 %\n"
     ]
    }
   ],
   "source": [
    "from sklearn.model_selection import cross_val_score\n",
    "accuracies = cross_val_score(estimator = classifier_logistic, X= X_train, y = y_train, cv = 10)\n",
    "print(\"Logistic Regression Cross validation Accuracy: {:.4f} %\".format(accuracies.mean()*100))\n",
    "print(\"Standerd Deviation: {:.2f} %\".format(accuracies.std()*100))"
   ]
  },
  {
   "cell_type": "markdown",
   "metadata": {},
   "source": [
    "validation conclusion: the cross valiation's accuracy on the logistic model looks pretty good with almost 95% and only aound 2% of standerd deviation of variance"
   ]
  },
  {
   "cell_type": "markdown",
   "metadata": {},
   "source": [
    "#### Investment Decision Model\n",
    "\n",
    "Model 3: Support Vector Machine "
   ]
  },
  {
   "cell_type": "code",
   "execution_count": 22,
   "metadata": {},
   "outputs": [
    {
     "data": {
      "text/plain": [
       "SVC(random_state=0)"
      ]
     },
     "execution_count": 22,
     "metadata": {},
     "output_type": "execute_result"
    }
   ],
   "source": [
    "from sklearn.svm import SVC\n",
    "classifier_svm = SVC(kernel = 'rbf', random_state = 0)\n",
    "classifier_svm.fit(X_train, y_train)"
   ]
  },
  {
   "cell_type": "code",
   "execution_count": 23,
   "metadata": {},
   "outputs": [],
   "source": [
    "y_pred_svm = classifier_svm.predict(X_test)"
   ]
  },
  {
   "cell_type": "code",
   "execution_count": 24,
   "metadata": {},
   "outputs": [
    {
     "name": "stdout",
     "output_type": "stream",
     "text": [
      "SVM Confusion Matrix: \n",
      "[[244   1]\n",
      " [ 14  17]]\n",
      "\n",
      "\n",
      "SVM Accuracy Score: \n",
      "0.9457\n",
      "\n",
      "\n",
      "SVM Precision Score: \n",
      "0.9444444444444444\n",
      "\n",
      "\n",
      "SVM Recall Score: \n",
      "0.5483870967741935\n",
      "\n",
      "\n",
      "SVM F1 Score: 0.6939\n"
     ]
    }
   ],
   "source": [
    "## Evaluating results\n",
    "from sklearn.metrics import confusion_matrix\n",
    "matrix = confusion_matrix(y_test, y_pred_svm)\n",
    "print(\"SVM Confusion Matrix: \")\n",
    "print(matrix)\n",
    "print('\\n')\n",
    "\n",
    "\n",
    "# the accuracy is pretty high, the model is performing pretty well\n",
    "from sklearn.metrics import accuracy_score\n",
    "accuracy_scre = accuracy_score(y_test, y_pred_svm)\n",
    "# accuracy score: (126+70)/(126+4+5+70)\n",
    "print(\"SVM Accuracy Score: \")\n",
    "print(np.round(accuracy_scre, 4))\n",
    "print('\\n')\n",
    "\n",
    "from sklearn.metrics import precision_score\n",
    "precision_scre = precision_score(y_test, y_pred_svm)\n",
    "print(\"SVM Precision Score: \")\n",
    "print(precision_scre)\n",
    "print('\\n')\n",
    "\n",
    "\n",
    "from sklearn.metrics import recall_score\n",
    "recall_scre = recall_score(y_test, y_pred_svm )\n",
    "print(\"SVM Recall Score: \")\n",
    "print(recall_scre)\n",
    "print('\\n')\n",
    "\n",
    "from sklearn.metrics import f1_score\n",
    "print(\"SVM F1 Score: {}\".format(np.round(f1_score(y_test, y_pred_svm), 4 ) ) )\n",
    "\n",
    "\n"
   ]
  },
  {
   "cell_type": "code",
   "execution_count": 25,
   "metadata": {},
   "outputs": [
    {
     "name": "stdout",
     "output_type": "stream",
     "text": [
      "              precision    recall  f1-score   support\n",
      "\n",
      "         0.0       0.95      1.00      0.97       245\n",
      "         1.0       0.94      0.55      0.69        31\n",
      "\n",
      "    accuracy                           0.95       276\n",
      "   macro avg       0.95      0.77      0.83       276\n",
      "weighted avg       0.95      0.95      0.94       276\n",
      "\n"
     ]
    }
   ],
   "source": [
    "from sklearn.metrics import classification_report\n",
    "print(classification_report(y_test, y_pred_svm))"
   ]
  },
  {
   "cell_type": "code",
   "execution_count": 26,
   "metadata": {},
   "outputs": [
    {
     "name": "stdout",
     "output_type": "stream",
     "text": [
      "SVM Model Cross-Validating Accuracy: 96.5865 %\n",
      "Standerd Deviation: 1.52 %\n"
     ]
    }
   ],
   "source": [
    "from sklearn.model_selection import cross_val_score\n",
    "accuracies = cross_val_score(estimator = classifier_svm, X= X_train, y = y_train, cv = 10)\n",
    "print(\"SVM Model Cross-Validating Accuracy: {:.4f} %\".format(accuracies.mean()*100))\n",
    "print(\"Standerd Deviation: {:.2f} %\".format(accuracies.std()*100))"
   ]
  },
  {
   "cell_type": "code",
   "execution_count": null,
   "metadata": {},
   "outputs": [],
   "source": []
  },
  {
   "cell_type": "markdown",
   "metadata": {},
   "source": [
    "#### Investment Decision Model\n",
    "\n",
    "Model 3: K-NN"
   ]
  },
  {
   "cell_type": "code",
   "execution_count": 27,
   "metadata": {},
   "outputs": [
    {
     "data": {
      "text/plain": [
       "KNeighborsClassifier()"
      ]
     },
     "execution_count": 27,
     "metadata": {},
     "output_type": "execute_result"
    }
   ],
   "source": [
    "from sklearn.neighbors import KNeighborsClassifier\n",
    "classifier_knn = KNeighborsClassifier(n_neighbors=5, weights='uniform', algorithm='auto', p=2, metric='minkowski')\n",
    "classifier_knn.fit(X_train, y_train)"
   ]
  },
  {
   "cell_type": "code",
   "execution_count": 28,
   "metadata": {},
   "outputs": [],
   "source": [
    "# prdict the test set\n",
    "\n",
    "y_pred_knn = classifier_knn.predict(X_test)"
   ]
  },
  {
   "cell_type": "code",
   "execution_count": 29,
   "metadata": {},
   "outputs": [
    {
     "name": "stdout",
     "output_type": "stream",
     "text": [
      "KNN Confusion Matrix: \n",
      "[[242   3]\n",
      " [ 13  18]]\n",
      "\n",
      "\n",
      "KNN Accuracy Score: \n",
      "0.942\n",
      "\n",
      "\n",
      "KNN Precision Score: \n",
      "0.8571428571428571\n",
      "\n",
      "\n",
      "KNN Recall Score: \n",
      "0.5806451612903226\n",
      "\n",
      "\n",
      "KNN F1 Score: 0.6923\n"
     ]
    }
   ],
   "source": [
    "# Evaluate the model\n",
    "## Evaluating results\n",
    "from sklearn.metrics import confusion_matrix\n",
    "matrix = confusion_matrix(y_test, y_pred_knn)\n",
    "print(\"KNN Confusion Matrix: \")\n",
    "print(matrix)\n",
    "print('\\n')\n",
    "\n",
    "\n",
    "# the accuracy is pretty high, the model is performing pretty well\n",
    "from sklearn.metrics import accuracy_score\n",
    "accuracy_scre = accuracy_score(y_test, y_pred_knn)\n",
    "# accuracy score: (126+70)/(126+4+5+70)\n",
    "print(\"KNN Accuracy Score: \")\n",
    "print(np.round(accuracy_scre, 4))\n",
    "print('\\n')\n",
    "\n",
    "from sklearn.metrics import precision_score\n",
    "precision_scre = precision_score(y_test, y_pred_knn)\n",
    "print(\"KNN Precision Score: \")\n",
    "print(precision_scre)\n",
    "print('\\n')\n",
    "\n",
    "\n",
    "from sklearn.metrics import recall_score\n",
    "recall_scre = recall_score(y_test, y_pred_knn )\n",
    "print(\"KNN Recall Score: \")\n",
    "print(recall_scre)\n",
    "print('\\n')\n",
    "\n",
    "from sklearn.metrics import f1_score\n",
    "print(\"KNN F1 Score: {}\".format(np.round(f1_score(y_test, y_pred_knn), 4 ) ) )\n",
    "\n",
    "\n",
    "\n"
   ]
  },
  {
   "cell_type": "code",
   "execution_count": 30,
   "metadata": {},
   "outputs": [
    {
     "name": "stdout",
     "output_type": "stream",
     "text": [
      "              precision    recall  f1-score   support\n",
      "\n",
      "         0.0       0.95      0.99      0.97       245\n",
      "         1.0       0.86      0.58      0.69        31\n",
      "\n",
      "    accuracy                           0.94       276\n",
      "   macro avg       0.90      0.78      0.83       276\n",
      "weighted avg       0.94      0.94      0.94       276\n",
      "\n"
     ]
    }
   ],
   "source": [
    "from sklearn.metrics import classification_report\n",
    "print(classification_report(y_test, y_pred_knn))"
   ]
  },
  {
   "cell_type": "code",
   "execution_count": 31,
   "metadata": {},
   "outputs": [
    {
     "name": "stdout",
     "output_type": "stream",
     "text": [
      "KNN Model Cross-Validating Accuracy: 95.9663 %\n",
      "Standerd Deviation: 2.11 %\n"
     ]
    }
   ],
   "source": [
    "from sklearn.model_selection import cross_val_score\n",
    "accuracies = cross_val_score(estimator = classifier_knn, X= X_train, y = y_train, cv = 10)\n",
    "print(\"KNN Model Cross-Validating Accuracy: {:.4f} %\".format(accuracies.mean()*100))\n",
    "print(\"Standerd Deviation: {:.2f} %\".format(accuracies.std()*100))"
   ]
  },
  {
   "cell_type": "markdown",
   "metadata": {},
   "source": [
    "#### Investment Decision Model\n",
    "\n",
    "Model 4: Naive Baye"
   ]
  },
  {
   "cell_type": "code",
   "execution_count": 32,
   "metadata": {},
   "outputs": [
    {
     "data": {
      "text/plain": [
       "GaussianNB()"
      ]
     },
     "execution_count": 32,
     "metadata": {},
     "output_type": "execute_result"
    }
   ],
   "source": [
    "from sklearn.naive_bayes import GaussianNB\n",
    "classifier_nb = GaussianNB()\n",
    "classifier_nb.fit(X_train, y_train)"
   ]
  },
  {
   "cell_type": "code",
   "execution_count": 33,
   "metadata": {},
   "outputs": [],
   "source": [
    "y_pred_nb = classifier_nb.predict(X_test)"
   ]
  },
  {
   "cell_type": "code",
   "execution_count": 34,
   "metadata": {},
   "outputs": [
    {
     "name": "stdout",
     "output_type": "stream",
     "text": [
      "Naive Bayes Confusion Matrix: \n",
      "[[233  12]\n",
      " [  9  22]]\n",
      "\n",
      "\n",
      "Naive Bayes Accuracy Score: \n",
      "0.9239\n",
      "\n",
      "\n",
      "Naive Bayes Precision Score: \n",
      "0.6470588235294118\n",
      "\n",
      "\n",
      "Naive Bayes Recall Score: \n",
      "0.7096774193548387\n",
      "\n",
      "\n",
      "Naive Bayes F1 Score: 0.6769\n"
     ]
    }
   ],
   "source": [
    "# Evaluate the model\n",
    "## Evaluating results\n",
    "from sklearn.metrics import confusion_matrix\n",
    "matrix = confusion_matrix(y_test, y_pred_nb )\n",
    "print(\"Naive Bayes Confusion Matrix: \")\n",
    "print(matrix)\n",
    "print('\\n')\n",
    "\n",
    "\n",
    "# the accuracy is pretty high, the model is performing pretty well\n",
    "from sklearn.metrics import accuracy_score\n",
    "accuracy_scre = accuracy_score(y_test, y_pred_nb )\n",
    "# accuracy score: (126+70)/(126+4+5+70)\n",
    "print(\"Naive Bayes Accuracy Score: \")\n",
    "print(np.round(accuracy_scre, 4))\n",
    "print('\\n')\n",
    "\n",
    "from sklearn.metrics import precision_score\n",
    "precision_scre = precision_score(y_test, y_pred_nb )\n",
    "print(\"Naive Bayes Precision Score: \")\n",
    "print(precision_scre)\n",
    "print('\\n')\n",
    "\n",
    "\n",
    "from sklearn.metrics import recall_score\n",
    "recall_scre = recall_score(y_test, y_pred_nb  )\n",
    "print(\"Naive Bayes Recall Score: \")\n",
    "print(recall_scre)\n",
    "print('\\n')\n",
    "\n",
    "from sklearn.metrics import f1_score\n",
    "print(\"Naive Bayes F1 Score: {}\".format(np.round(f1_score(y_test, y_pred_nb ), 4 ) ) )\n",
    "\n",
    "\n"
   ]
  },
  {
   "cell_type": "code",
   "execution_count": 35,
   "metadata": {},
   "outputs": [
    {
     "name": "stdout",
     "output_type": "stream",
     "text": [
      "Naive Bayes Model Cross-Validating Accuracy: 94.5529 %\n",
      "Standerd Deviation: 2.72 %\n"
     ]
    }
   ],
   "source": [
    "from sklearn.model_selection import cross_val_score\n",
    "accuracies = cross_val_score(estimator = classifier_nb, X= X_train, y = y_train, cv = 10)\n",
    "print(\"Naive Bayes Model Cross-Validating Accuracy: {:.4f} %\".format(accuracies.mean()*100))\n",
    "print(\"Standerd Deviation: {:.2f} %\".format(accuracies.std()*100))"
   ]
  },
  {
   "cell_type": "code",
   "execution_count": null,
   "metadata": {},
   "outputs": [],
   "source": []
  },
  {
   "cell_type": "code",
   "execution_count": null,
   "metadata": {},
   "outputs": [],
   "source": []
  }
 ],
 "metadata": {
  "kernelspec": {
   "display_name": "Python 3",
   "language": "python",
   "name": "python3"
  },
  "language_info": {
   "codemirror_mode": {
    "name": "ipython",
    "version": 3
   },
   "file_extension": ".py",
   "mimetype": "text/x-python",
   "name": "python",
   "nbconvert_exporter": "python",
   "pygments_lexer": "ipython3",
   "version": "3.6.5"
  }
 },
 "nbformat": 4,
 "nbformat_minor": 2
}
